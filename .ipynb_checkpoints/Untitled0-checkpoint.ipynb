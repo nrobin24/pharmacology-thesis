{
 "metadata": {
  "name": ""
 },
 "nbformat": 3,
 "nbformat_minor": 0,
 "worksheets": [
  {
   "cells": [
    {
     "cell_type": "code",
     "collapsed": false,
     "input": [
      "import sys\n",
      "import json\n",
      "import shutil\n",
      "\n",
      "# Get name of file to use for importing outline data\n",
      "\n",
      "#outline_filename = sys.argv[1]\n",
      "\n",
      "outline_filename = 'outline.json'## mockup for testing\n",
      "\n",
      "# Get outline data (should be JSON formatted)\n",
      "outline_file = open(outline_filename)\n",
      "outline_JSON = json.load(outline_file)\n",
      "section_list = outline_JSON['pharmacology-thesis']"
     ],
     "language": "python",
     "metadata": {},
     "outputs": [],
     "prompt_number": 91
    },
    {
     "cell_type": "code",
     "collapsed": false,
     "input": [
      "def parseObject(object):\n",
      "    \n",
      "    filenames = []\n",
      "    \n",
      "    ## the key represents a folder\n",
      "    section_folder = object.keys()[0]\n",
      "    \n",
      "    ## the next level is either a document or a subfolder\n",
      "    section_child = object.values()[0]\n",
      "    \n",
      "    ## if the value is in unicode format, then assume it is a filename\n",
      "    if type(section_child) is unicode:\n",
      "        filename = str(section_folder) + '/' + str(section_child)\n",
      "        \n",
      "        filenames.append(filename)\n",
      "        \n",
      "    ## if it is a list, parse the list\n",
      "    if type(section_child) is list:\n",
      "        child_filenames = parseList(section_child)\n",
      "        child_filenames_full = []\n",
      "        for fn in child_filenames:\n",
      "            fn_full = str(section_folder) + '/' + str(fn)\n",
      "            child_filenames_full.append(fn_full)\n",
      "        filenames.extend(child_filenames_full)\n",
      "        \n",
      "    return filenames"
     ],
     "language": "python",
     "metadata": {},
     "outputs": [
      {
       "ename": "SyntaxError",
       "evalue": "invalid syntax (<ipython-input-96-1a0d692bdaff>, line 22)",
       "output_type": "pyerr",
       "traceback": [
        "\u001b[0;36m  File \u001b[0;32m\"<ipython-input-96-1a0d692bdaff>\"\u001b[0;36m, line \u001b[0;32m22\u001b[0m\n\u001b[0;31m    fn_full = str(section_folder) + '/' str(fn)\u001b[0m\n\u001b[0m                                          ^\u001b[0m\n\u001b[0;31mSyntaxError\u001b[0m\u001b[0;31m:\u001b[0m invalid syntax\n"
       ]
      }
     ],
     "prompt_number": 96
    },
    {
     "cell_type": "code",
     "collapsed": false,
     "input": [
      "def parseList(list):\n",
      "    filenames = []\n",
      "\n",
      "    for item in list:\n",
      "        if type(item) is dict:\n",
      "            filenames = parseObject(item)\n",
      "        if type(item) is unicode:\n",
      "           filenames.append(item)\n",
      "    return filenames"
     ],
     "language": "python",
     "metadata": {},
     "outputs": [],
     "prompt_number": 94
    },
    {
     "cell_type": "code",
     "collapsed": false,
     "input": [
      "global_filenames = []\n",
      "for section in section_list:\n",
      "    section_filenames = parseObject(section)\n",
      "    global_filenames.extend(section_filenames)\n",
      "print global_filenames"
     ],
     "language": "python",
     "metadata": {},
     "outputs": [
      {
       "output_type": "stream",
       "stream": "stdout",
       "text": [
        "['##-abstract/abstract.md', u'Contributions-Riluzole.md', u'Contributions-Wiki.md', u'Contributions-Simva.md', '#ch5-conclusion/concl-text.md']\n"
       ]
      }
     ],
     "prompt_number": 95
    },
    {
     "cell_type": "code",
     "collapsed": false,
     "input": [],
     "language": "python",
     "metadata": {},
     "outputs": []
    }
   ],
   "metadata": {}
  }
 ]
}