{
 "metadata": {
  "name": ""
 },
 "nbformat": 3,
 "nbformat_minor": 0,
 "worksheets": [
  {
   "cells": [
    {
     "cell_type": "code",
     "collapsed": false,
     "input": [
      "import csv\n",
      "import shutil\n",
      "# create the output file\n",
      "outfile = 'dist/build.md'\n",
      "\n",
      "# open the output file\n",
      "destination = open(outfile,'wb')\n",
      "\n",
      "with open('outline.csv', 'rb') as csvfile:\n",
      "     outline = csv.reader(csvfile, delimiter=',')\n",
      "     for row in outline:\n",
      "            print row[0]\n",
      "            shutil.copyfileobj(open(row[0], 'rb'), destination)\n",
      "destination.close()"
     ],
     "language": "python",
     "metadata": {},
     "outputs": [
      {
       "output_type": "stream",
       "stream": "stdout",
       "text": [
        "##-abstract/abstract.md\n",
        "#ch1-introduction/ResearchStatement/ResearchStatement_Global.md\n",
        "#ch1-introduction/ResearchStatement/byObjective/ResearchStatement-DiscoverMolecules.md\n",
        "#ch1-introduction/ResearchStatement/byObjective/ResearchStatement-LearnMechanism.md\n",
        "#ch1-introduction/ResearchStatement/byObjective/ResearchStatement-NovelTherapeutic.md\n",
        "#ch5-conclusion/concl-text.md\n"
       ]
      }
     ],
     "prompt_number": 34
    },
    {
     "cell_type": "code",
     "collapsed": false,
     "input": [],
     "language": "python",
     "metadata": {},
     "outputs": []
    }
   ],
   "metadata": {}
  }
 ]
}